{
 "cells": [
  {
   "cell_type": "code",
   "execution_count": 57,
   "metadata": {},
   "outputs": [],
   "source": [
    "def numIslands(grid: [[str]]) -> int:\n",
    "    # def was missing\n",
    "    # list is not defined should be [[string]]\n",
    "    # list index out of range\n",
    "    num_Islands = 0\n",
    "\n",
    "    for rindex, row in enumerate(grid, start=0):\n",
    "        for cindex, col in enumerate(row, start=0):\n",
    "            if col == 1:\n",
    "                num_water = 0\n",
    "                try:\n",
    "                    if grid[rindex+1][cindex] == 0:\n",
    "                        num_water += 1\n",
    "                    \n",
    "                    if grid[rindex-1][cindex] == 0:\n",
    "                        num_water += 1\n",
    "\n",
    "                    if grid[rindex][cindex+1] == 0:\n",
    "                        num_water += 1\n",
    "\n",
    "                    if grid[rindex][cindex-1] == 0:\n",
    "                        num_water += 1\n",
    "                except IndexError:\n",
    "                    print(\"hi\")\n",
    "                \n",
    "                if num_water >= 2:\n",
    "                    num_Islands += 1\n",
    "    \n",
    "    return num_Islands"
   ]
  },
  {
   "cell_type": "code",
   "execution_count": 58,
   "metadata": {},
   "outputs": [
    {
     "output_type": "stream",
     "name": "stdout",
     "text": "hi\nhi\n"
    },
    {
     "output_type": "execute_result",
     "data": {
      "text/plain": "5"
     },
     "metadata": {},
     "execution_count": 58
    }
   ],
   "source": [
    "grid = [\n",
    "    [1,1,1,1,0],\n",
    "    [1,1,0,1,0],\n",
    "    [1,1,0,0,0],\n",
    "    [0,0,0,0,0],\n",
    "    [0,0,0,1,1]\n",
    "]            \n",
    "\n",
    "numIslands(grid)"
   ]
  },
  {
   "cell_type": "code",
   "execution_count": null,
   "metadata": {},
   "outputs": [],
   "source": []
  }
 ],
 "metadata": {
  "language_info": {
   "codemirror_mode": {
    "name": "ipython",
    "version": 3
   },
   "file_extension": ".py",
   "mimetype": "text/x-python",
   "name": "python",
   "nbconvert_exporter": "python",
   "pygments_lexer": "ipython3",
   "version": "3.7.3-final"
  },
  "orig_nbformat": 2,
  "kernelspec": {
   "name": "python37364bitc740124382734dfdaf28108e15df2de2",
   "display_name": "Python 3.7.3 64-bit"
  }
 },
 "nbformat": 4,
 "nbformat_minor": 2
}