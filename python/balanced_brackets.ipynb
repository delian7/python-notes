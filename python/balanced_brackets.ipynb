{
 "cells": [
  {
   "cell_type": "code",
   "execution_count": 7,
   "metadata": {},
   "outputs": [],
   "source": [
    "def isBalanced(s):\n",
    "    stack = []\n",
    "    closedMappings = {\n",
    "        \"}\": \n",
    "    }\n",
    "\n",
    "    for char in s: \n",
    "        if char is \"{\" or char is \"[\" or char is \"(\":\n",
    "            stack.append(char)\n",
    "        else:\n",
    "            if char is not stack.pop()"
   ]
  },
  {
   "cell_type": "code",
   "execution_count": 8,
   "metadata": {},
   "outputs": [
    {
     "output_type": "stream",
     "name": "stdout",
     "text": "['{']\n['{', '[']\n['{', '[', '(']\n['{', '[', '(']\n['{', '[', '(']\n['{', '[', '(']\n"
    }
   ],
   "source": [
    "isBalanced(\"{[()]}\")"
   ]
  },
  {
   "cell_type": "code",
   "execution_count": 11,
   "metadata": {},
   "outputs": [
    {
     "output_type": "stream",
     "name": "stdout",
     "text": "['{', '[']\n"
    }
   ],
   "source": [
    "stack = ['{', '[', '(']\n",
    "stack.pop()\n",
    "print(stack)"
   ]
  },
  {
   "cell_type": "code",
   "execution_count": null,
   "metadata": {},
   "outputs": [],
   "source": []
  }
 ],
 "metadata": {
  "language_info": {
   "codemirror_mode": {
    "name": "ipython",
    "version": 3
   },
   "file_extension": ".py",
   "mimetype": "text/x-python",
   "name": "python",
   "nbconvert_exporter": "python",
   "pygments_lexer": "ipython3",
   "version": "3.7.3-final"
  },
  "orig_nbformat": 2,
  "kernelspec": {
   "name": "python37364bitee67df87b14244af98345bd53faf2ce7",
   "display_name": "Python 3.7.3 64-bit"
  }
 },
 "nbformat": 4,
 "nbformat_minor": 2
}