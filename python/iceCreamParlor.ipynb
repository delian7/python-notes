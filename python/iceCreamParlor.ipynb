{
 "cells": [
  {
   "cell_type": "code",
   "execution_count": 36,
   "metadata": {},
   "outputs": [],
   "source": [
    "def icecreamParlor(m: int, arr: [int]):\n",
    "    dictionary = {}\n",
    "\n",
    "    for index, num in enumerate(arr):\n",
    "        if dictionary.get(m - (m - num)) is not None: \n",
    "            return [ dictionary[ m - (m-num) ], index + 1 ]\n",
    "        else: \n",
    "            dictionary[m - num] = index + 1\n"
   ]
  },
  {
   "cell_type": "code",
   "execution_count": 42,
   "metadata": {
    "tags": []
   },
   "outputs": [
    {
     "output_type": "execute_result",
     "data": {
      "text/plain": "[2, 3]"
     },
     "metadata": {},
     "execution_count": 42
    }
   ],
   "source": [
    "iceCreamParlor(4, [1, 4, 5, 3, 2])\n",
    "# 1 - based index \n",
    "# 1, 4\n",
    "\n",
    "iceCreamParlor(4, [1,2,2,3])\n",
    "# 1, 2"
   ]
  },
  {
   "cell_type": "code",
   "execution_count": null,
   "metadata": {},
   "outputs": [],
   "source": []
  }
 ],
 "metadata": {
  "language_info": {
   "codemirror_mode": {
    "name": "ipython",
    "version": 3
   },
   "file_extension": ".py",
   "mimetype": "text/x-python",
   "name": "python",
   "nbconvert_exporter": "python",
   "pygments_lexer": "ipython3",
   "version": "3.7.3-final"
  },
  "orig_nbformat": 2,
  "kernelspec": {
   "name": "python37364bitee67df87b14244af98345bd53faf2ce7",
   "display_name": "Python 3.7.3 64-bit"
  }
 },
 "nbformat": 4,
 "nbformat_minor": 2
}