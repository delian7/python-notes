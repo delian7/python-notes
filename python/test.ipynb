{
 "cells": [
  {
   "cell_type": "code",
   "execution_count": 4,
   "metadata": {
    "tags": []
   },
   "outputs": [
    {
     "output_type": "stream",
     "name": "stdout",
     "text": "['text', 'to', 'text']\n"
    }
   ],
   "source": [
    "help = [\"text\", \"to\"]\n",
    "note = [\"text\"]\n",
    "\n",
    "print(help + note)"
   ]
  },
  {
   "cell_type": "code",
   "execution_count": 7,
   "metadata": {
    "tags": []
   },
   "outputs": [
    {
     "output_type": "stream",
     "name": "stdout",
     "text": "[('next', 3), ('purchase', 1)]\n"
    }
   ],
   "source": [
    "words = {\"purchase\": 1, \"next\": 3}\n",
    "\n",
    "sort_orders = sorted(words.items(), key=lambda x: x[1], reverse=True)\n",
    "\n",
    "print(sort_orders)"
   ]
  },
  {
   "cell_type": "code",
   "execution_count": 21,
   "metadata": {
    "tags": []
   },
   "outputs": [
    {
     "output_type": "stream",
     "name": "stdout",
     "text": "{'purchase': 2, 'order': 1, 'item': 1}\n[('purchase', 2), ('order', 1), ('item', 1)]\n"
    }
   ],
   "source": [
    "helpText = \"purchase order too item purchase\"\n",
    "wordsToExclude = [\"too\"]\n",
    "\n",
    "wordArray = helpText.split(\" \")\n",
    "mostUsedWords = {}\n",
    "    \n",
    "for word in wordArray:\n",
    "    if wordsToExclude.count(word) is 0:\n",
    "        if word in mostUsedWords:\n",
    "            mostUsedWords[word] += 1\n",
    "        else: \n",
    "            mostUsedWords[word] = 1\n",
    "\n",
    "print(mostUsedWords)\n",
    "\n",
    "sortedWords = sorted(mostUsedWords.items(), key=lambda x: x[1], reverse=True)\n",
    "\n",
    "print(sortedWords)\n",
    "\n",
    "for word in sortedWords:\n",
    "    "
   ]
  },
  {
   "cell_type": "code",
   "execution_count": 19,
   "metadata": {
    "tags": []
   },
   "outputs": [
    {
     "output_type": "stream",
     "name": "stdout",
     "text": "test\n"
    }
   ],
   "source": [
    "print(\"TesT\".lower())"
   ]
  },
  {
   "cell_type": "code",
   "execution_count": 29,
   "metadata": {
    "tags": []
   },
   "outputs": [
    {
     "output_type": "error",
     "ename": "NameError",
     "evalue": "name 'string' is not defined",
     "traceback": [
      "\u001b[0;31m---------------------------------------------------------------------------\u001b[0m",
      "\u001b[0;31mNameError\u001b[0m                                 Traceback (most recent call last)",
      "\u001b[0;32m<ipython-input-29-f36d2441b4ed>\u001b[0m in \u001b[0;36m<module>\u001b[0;34m\u001b[0m\n\u001b[1;32m      3\u001b[0m \u001b[0;34m\u001b[0m\u001b[0m\n\u001b[1;32m      4\u001b[0m \u001b[0;31m# test = re.sub(r'', test)\u001b[0m\u001b[0;34m\u001b[0m\u001b[0;34m\u001b[0m\u001b[0;34m\u001b[0m\u001b[0m\n\u001b[0;32m----> 5\u001b[0;31m \u001b[0mexclude\u001b[0m \u001b[0;34m=\u001b[0m \u001b[0mset\u001b[0m\u001b[0;34m(\u001b[0m\u001b[0mstring\u001b[0m\u001b[0;34m.\u001b[0m\u001b[0mpunctuation\u001b[0m\u001b[0;34m)\u001b[0m\u001b[0;34m\u001b[0m\u001b[0;34m\u001b[0m\u001b[0m\n\u001b[0m\u001b[1;32m      6\u001b[0m \u001b[0;34m\u001b[0m\u001b[0m\n\u001b[1;32m      7\u001b[0m \u001b[0mtest\u001b[0m\u001b[0;34m.\u001b[0m\u001b[0mtranslate\u001b[0m\u001b[0;34m(\u001b[0m\u001b[0;32mNone\u001b[0m\u001b[0;34m,\u001b[0m \u001b[0mstring\u001b[0m\u001b[0;34m.\u001b[0m\u001b[0mpunctuation\u001b[0m\u001b[0;34m)\u001b[0m\u001b[0;34m\u001b[0m\u001b[0;34m\u001b[0m\u001b[0m\n",
      "\u001b[0;31mNameError\u001b[0m: name 'string' is not defined"
     ]
    }
   ],
   "source": [
    "import re\n",
    "test = \"jill's test\"\n",
    "\n",
    "# test = re.sub(r'', test)\n",
    "exclude = set(string.punctuation)\n",
    "\n",
    "test.translate(None, string.punctuation)"
   ]
  },
  {
   "cell_type": "code",
   "execution_count": 31,
   "metadata": {},
   "outputs": [
    {
     "output_type": "execute_result",
     "data": {
      "text/plain": "'jills test'"
     },
     "metadata": {},
     "execution_count": 31
    }
   ],
   "source": [
    "import string\n",
    "test.translate(str.maketrans('', '', string.punctuation))"
   ]
  },
  {
   "cell_type": "code",
   "execution_count": null,
   "metadata": {},
   "outputs": [],
   "source": []
  }
 ],
 "metadata": {
  "language_info": {
   "codemirror_mode": {
    "name": "ipython",
    "version": 3
   },
   "file_extension": ".py",
   "mimetype": "text/x-python",
   "name": "python",
   "nbconvert_exporter": "python",
   "pygments_lexer": "ipython3",
   "version": "3.7.3-final"
  },
  "orig_nbformat": 2,
  "kernelspec": {
   "name": "python37364bitee67df87b14244af98345bd53faf2ce7",
   "display_name": "Python 3.7.3 64-bit"
  }
 },
 "nbformat": 4,
 "nbformat_minor": 2
}