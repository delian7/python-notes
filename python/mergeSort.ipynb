{
 "cells": [
  {
   "cell_type": "code",
   "execution_count": 82,
   "metadata": {},
   "outputs": [],
   "source": [
    "def mergeSort(array: [int]):\n",
    "    temp = []\n",
    "    mergesort(array, temp, 0, len(array) - 1)\n",
    "    # sort the left half\n",
    "    # sort the right half\n",
    "    # merge those recursively\n",
    "\n",
    "\n",
    "def mergesort(array: [int], temp: [int], leftStart, rightEnd):\n",
    "    if (leftStart >= rightEnd): return\n",
    "\n",
    "    middle: int = (leftStart + rightEnd) // 2\n",
    "\n",
    "    mergesort(array, temp, leftStart, middle)\n",
    "    mergesort(array, temp, middle + 1, rightEnd)\n",
    "\n",
    "    print(\"-------\")\n",
    "\n",
    "    mergeHalves(array, temp, leftStart, rightEnd)\n",
    "\n",
    "def mergeHalves(array: [int], temp: [int],  leftStart, rightEnd):\n",
    "    leftEnd = (rightEnd + leftStart) // 2\n",
    "    rightStart = leftEnd + 1\n",
    "    size = rightEnd - leftStart + 1\n",
    "\n",
    "    print(\"leftStart:\", leftStart, \"leftEnd:\", leftEnd)\n",
    "    print(\"rightStart:\", rightStart, \"rightEnd:\", rightEnd)\n",
    "\n",
    "    left = leftStart\n",
    "    right = rightStart\n",
    "    index = leftStart\n",
    "\n",
    "    while(left <= leftEnd and right <= rightEnd):\n",
    "        if array[left] <= array[right]:\n",
    "            temp.append(array[left])\n",
    "            left += 1\n",
    "        else:\n",
    "            temp.append(array[right])\n",
    "            right += 1\n",
    "        index += 1\n",
    "\n",
    "    print(index)\n"
   ]
  },
  {
   "cell_type": "code",
   "execution_count": 83,
   "metadata": {
    "tags": []
   },
   "outputs": [
    {
     "output_type": "stream",
     "name": "stdout",
     "text": "-------\nleftStart: 0 leftEnd: 0\nrightStart: 1 rightEnd: 1\n1\n-------\nleftStart: 2 leftEnd: 2\nrightStart: 3 rightEnd: 3\n3\n-------\nleftStart: 0 leftEnd: 1\nrightStart: 2 rightEnd: 3\n3\n"
    }
   ],
   "source": [
    "mergeSort([5,4,2,6])"
   ]
  },
  {
   "cell_type": "code",
   "execution_count": 71,
   "metadata": {
    "tags": []
   },
   "outputs": [
    {
     "output_type": "stream",
     "name": "stdout",
     "text": "0\n1\n"
    }
   ],
   "source": [
    "size = 2\n",
    "\n",
    "for x in range(size):\n",
    "    print(x)"
   ]
  },
  {
   "cell_type": "code",
   "execution_count": 106,
   "metadata": {},
   "outputs": [],
   "source": [
    "def mergeSort(array: [int]):\n",
    "    if len(array) <= 1: return\n",
    "\n",
    "    mid = len(array) // 2\n",
    "    left = array[:mid]\n",
    "    right = array[mid:]\n",
    "\n",
    "    mergeSort(left)\n",
    "    mergeSort(right)\n",
    "\n",
    "    print(left, right)\n",
    "    print(array)\n",
    "\n",
    "    # two iterators for the halves\n",
    "    i = 0\n",
    "    j = 0\n",
    "\n",
    "    # main list iterator\n",
    "    k = 0\n",
    "\n",
    "    while(i < len(left) and j < len(right)):\n",
    "        print(\"hi\")\n",
    "        if left[i] < right[j]:\n",
    "            array[k] = left[i]\n",
    "            i += 1\n",
    "        else:\n",
    "            array[k] = right[j]\n",
    "            j += 1\n",
    "\n",
    "        k += 1\n",
    "\n",
    "    while i < len(left):\n",
    "        array[k] = left[i]\n",
    "        i += 1\n",
    "        k += 1\n",
    "\n",
    "    while j < len(right):\n",
    "        array[k] = right[j]\n",
    "        j += 1\n",
    "        k += 1\n"
   ]
  },
  {
   "cell_type": "code",
   "execution_count": 107,
   "metadata": {
    "tags": []
   },
   "outputs": [
    {
     "output_type": "stream",
     "name": "stdout",
     "text": "[5] [4]\n[5, 4]\nhi\n[2] [6]\n[2, 6]\nhi\n[4, 5] [2, 6]\n[5, 4, 2, 6]\nhi\nhi\nhi\n[2, 4, 5, 6]\n"
    }
   ],
   "source": [
    "array = [5,4,2,6]\n",
    "mergeSort(array)\n",
    "print(array)"
   ]
  },
  {
   "cell_type": "code",
   "execution_count": null,
   "metadata": {},
   "outputs": [],
   "source": []
  }
 ],
 "metadata": {
  "language_info": {
   "codemirror_mode": {
    "name": "ipython",
    "version": 3
   },
   "file_extension": ".py",
   "mimetype": "text/x-python",
   "name": "python",
   "nbconvert_exporter": "python",
   "pygments_lexer": "ipython3",
   "version": "3.7.3-final"
  },
  "orig_nbformat": 2,
  "kernelspec": {
   "name": "python37364bitee67df87b14244af98345bd53faf2ce7",
   "display_name": "Python 3.7.3 64-bit"
  }
 },
 "nbformat": 4,
 "nbformat_minor": 2
}