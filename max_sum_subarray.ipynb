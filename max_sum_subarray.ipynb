{
 "cells": [
  {
   "cell_type": "code",
   "execution_count": 60,
   "metadata": {},
   "outputs": [],
   "source": [
    "def max_sum_subarray(nums: [int]) -> int:\n",
    "    if len(array) is 0:\n",
    "        return 0\n",
    "    sums = []\n",
    "    sum_was_negative = False\n",
    "    for i, num in enumerate(nums):\n",
    "        if i is not 0:\n",
    "            if sum_was_negative:\n",
    "                sum = 0 + num\n",
    "            else: \n",
    "                sum = sums[i-1] + num\n",
    "\n",
    "            sums.append(sum)\n",
    "        \n",
    "            if sum < 0:\n",
    "                sum_was_negative = True\n",
    "            else:\n",
    "                sum_was_negative = False\n",
    "        else:\n",
    "            if num < 0:\n",
    "                sum_was_negative = True\n",
    "            sums.append(num)\n",
    "\n",
    "    return max(sums)"
   ]
  },
  {
   "cell_type": "code",
   "execution_count": 61,
   "metadata": {},
   "outputs": [
    {
     "output_type": "execute_result",
     "data": {
      "text/plain": "1"
     },
     "metadata": {},
     "execution_count": 61
    }
   ],
   "source": [
    "array = [-2,1]\n",
    "max_sum_subarray(array)"
   ]
  },
  {
   "cell_type": "code",
   "execution_count": 52,
   "metadata": {},
   "outputs": [
    {
     "output_type": "execute_result",
     "data": {
      "text/plain": "15"
     },
     "metadata": {},
     "execution_count": 52
    }
   ],
   "source": [
    "array = [1,2,3,4,5]\n",
    "max_sum_subarray(array)"
   ]
  },
  {
   "cell_type": "code",
   "execution_count": 49,
   "metadata": {},
   "outputs": [
    {
     "output_type": "execute_result",
     "data": {
      "text/plain": "7"
     },
     "metadata": {},
     "execution_count": 49
    }
   ],
   "source": [
    "array = [5,-4,3,-2,5]\n",
    "max_sum_subarray(array)"
   ]
  },
  {
   "cell_type": "code",
   "execution_count": 50,
   "metadata": {},
   "outputs": [
    {
     "output_type": "execute_result",
     "data": {
      "text/plain": "7"
     },
     "metadata": {},
     "execution_count": 50
    }
   ],
   "source": [
    "array = [1,-2,3,4,-5]\n",
    "max_sum_subarray(array)"
   ]
  },
  {
   "cell_type": "code",
   "execution_count": 59,
   "metadata": {},
   "outputs": [
    {
     "output_type": "execute_result",
     "data": {
      "text/plain": "0"
     },
     "metadata": {},
     "execution_count": 59
    }
   ],
   "source": [
    "array = []\n",
    "max_sum_subarray(array)"
   ]
  },
  {
   "cell_type": "code",
   "execution_count": null,
   "metadata": {},
   "outputs": [],
   "source": []
  }
 ],
 "metadata": {
  "language_info": {
   "codemirror_mode": {
    "name": "ipython",
    "version": 3
   },
   "file_extension": ".py",
   "mimetype": "text/x-python",
   "name": "python",
   "nbconvert_exporter": "python",
   "pygments_lexer": "ipython3",
   "version": "3.7.3-final"
  },
  "orig_nbformat": 2,
  "kernelspec": {
   "name": "python37364bitc740124382734dfdaf28108e15df2de2",
   "display_name": "Python 3.7.3 64-bit"
  }
 },
 "nbformat": 4,
 "nbformat_minor": 2
}