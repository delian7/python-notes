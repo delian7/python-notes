{
 "cells": [
  {
   "cell_type": "code",
   "execution_count": 9,
   "metadata": {},
   "outputs": [],
   "source": [
    "def combos1(array: [int], n: int, r: int):\n",
    "\n",
    "    data = [0] * r\n",
    "\n",
    "    # array\n",
    "    # data\n",
    "    # start: 0\n",
    "    # end: n-1\n",
    "    # index: 0\n",
    "    # r: 3\n",
    "    combosUtil(array, data, 0, n - 1, 0, r)\n",
    "\n",
    "def combosUtil(array: [int], data: [int], start: int, end: int, index: int, r: int):\n",
    "    if index is r:\n",
    "        for j in range(r):\n",
    "            print(data[j], end = \" \")\n",
    "        print()\n",
    "        return\n",
    "\n",
    "    i = start\n",
    "    while(i <= end and end - i + 1 >= r - index):\n",
    "        data[index] = array[i]\n",
    "        print(\"f(\", array, \",\", data, \",\", i+1, \",\", end, \",\", index+1, \")\")\n",
    "        combosUtil(array, data, i+1, end, index+1, r)\n",
    "        i+=1\n"
   ]
  },
  {
   "cell_type": "code",
   "execution_count": 10,
   "metadata": {},
   "outputs": [
    {
     "output_type": "stream",
     "name": "stdout",
     "text": "f( [1, 2, 3, 4] , [1, 0] , 1 , 3 , 1 )\nf( [1, 2, 3, 4] , [1, 2] , 2 , 3 , 2 )\n1 2 \nf( [1, 2, 3, 4] , [1, 3] , 3 , 3 , 2 )\n1 3 \nf( [1, 2, 3, 4] , [1, 4] , 4 , 3 , 2 )\n1 4 \nf( [1, 2, 3, 4] , [2, 4] , 2 , 3 , 1 )\nf( [1, 2, 3, 4] , [2, 3] , 3 , 3 , 2 )\n2 3 \nf( [1, 2, 3, 4] , [2, 4] , 4 , 3 , 2 )\n2 4 \nf( [1, 2, 3, 4] , [3, 4] , 3 , 3 , 1 )\nf( [1, 2, 3, 4] , [3, 4] , 4 , 3 , 2 )\n3 4 \n"
    }
   ],
   "source": [
    "combos1([1,2,3,4], 4, 2)"
   ]
  },
  {
   "cell_type": "code",
   "execution_count": null,
   "metadata": {},
   "outputs": [],
   "source": []
  }
 ],
 "metadata": {
  "language_info": {
   "codemirror_mode": {
    "name": "ipython",
    "version": 3
   },
   "file_extension": ".py",
   "mimetype": "text/x-python",
   "name": "python",
   "nbconvert_exporter": "python",
   "pygments_lexer": "ipython3",
   "version": "3.7.3-final"
  },
  "orig_nbformat": 2,
  "kernelspec": {
   "name": "python37364bitc740124382734dfdaf28108e15df2de2",
   "display_name": "Python 3.7.3 64-bit"
  }
 },
 "nbformat": 4,
 "nbformat_minor": 2
}